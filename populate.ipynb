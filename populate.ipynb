{
 "cells": [
  {
   "cell_type": "code",
   "execution_count": 1,
   "metadata": {},
   "outputs": [],
   "source": [
    "import uuid\n",
    "import random\n",
    "import string\n",
    "import csv"
   ]
  },
  {
   "cell_type": "code",
   "execution_count": null,
   "metadata": {},
   "outputs": [],
   "source": [
    "symbols = set()\n",
    "stocks = {}\n",
    "while len(symbols) < 16_000:\n",
    "    stockUid = str(uuid.uuid4())\n",
    "    symbol = \"\"\n",
    "    while True:\n",
    "        symbol = ''.join(random.choice(string.ascii_uppercase) for _ in range(4))\n",
    "        if symbol not in symbols:\n",
    "            break\n",
    "    symbols.add(symbol)\n",
    "    stocks[stockUid] = symbol\n",
    "\n",
    "stocks"
   ]
  },
  {
   "cell_type": "code",
   "execution_count": 5,
   "metadata": {},
   "outputs": [],
   "source": [
    "memberUIDs = set()\n",
    "while len(memberUIDs) < 100_000:\n",
    "    memberUID = str(uuid.uuid4())\n",
    "    memberUIDs.add(memberUID)"
   ]
  },
  {
   "cell_type": "code",
   "execution_count": 13,
   "metadata": {},
   "outputs": [],
   "source": [
    "stockUIDs = list(stocks.keys())\n",
    "relations = {}\n",
    "for memberUID in memberUIDs:\n",
    "    totalStocksCount = len(symbols)\n",
    "    member_relation = set()\n",
    "    for _ in range(15):\n",
    "        stockUid = random.choice(list(stocks.keys()))\n",
    "        member_relation.add(stockUid)\n",
    "    relations[memberUID] = list(member_relation)"
   ]
  },
  {
   "cell_type": "code",
   "execution_count": 9,
   "metadata": {},
   "outputs": [],
   "source": [
    "with open('stocks.csv', 'w', newline='') as csvfile:\n",
    "    fieldnames = ['stockUid', 'symbol']\n",
    "    writer = csv.DictWriter(csvfile, fieldnames=fieldnames)\n",
    "\n",
    "    writer.writeheader()\n",
    "    for key, value in stocks.items():\n",
    "        writer.writerow({'stockUid': key, 'symbol': value})"
   ]
  },
  {
   "cell_type": "code",
   "execution_count": 10,
   "metadata": {},
   "outputs": [],
   "source": [
    "with open('memberUids.csv', 'w', newline='') as csvfile:\n",
    "    fieldnames = ['memberUid']\n",
    "    writer = csv.DictWriter(csvfile, fieldnames=fieldnames)\n",
    "\n",
    "    writer.writeheader()\n",
    "    for member in memberUIDs:\n",
    "        writer.writerow({'memberUid': member})"
   ]
  },
  {
   "cell_type": "code",
   "execution_count": 15,
   "metadata": {},
   "outputs": [],
   "source": [
    "with open('relations.csv', 'w', newline='') as csvfile:\n",
    "    fieldnames = ['memberUid', 'BUYS']\n",
    "    writer = csv.DictWriter(csvfile, fieldnames=fieldnames)\n",
    "\n",
    "    writer.writeheader()\n",
    "    for member, member_relations in relations.items():\n",
    "        for stock in member_relations:\n",
    "            writer.writerow({'memberUid': member, 'BUYS': stock})"
   ]
  }
 ],
 "metadata": {
  "kernelspec": {
   "display_name": "Python 3",
   "language": "python",
   "name": "python3"
  },
  "language_info": {
   "codemirror_mode": {
    "name": "ipython",
    "version": 3
   },
   "file_extension": ".py",
   "mimetype": "text/x-python",
   "name": "python",
   "nbconvert_exporter": "python",
   "pygments_lexer": "ipython3",
   "version": "3.11.4"
  },
  "orig_nbformat": 4
 },
 "nbformat": 4,
 "nbformat_minor": 2
}
